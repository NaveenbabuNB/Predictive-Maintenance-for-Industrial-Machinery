{
 "cells": [
  {
   "cell_type": "code",
   "execution_count": null,
   "id": "d092fb50",
   "metadata": {},
   "outputs": [],
   "source": [
    "#Dataset for Project"
   ]
  },
  {
   "cell_type": "code",
   "execution_count": 1,
   "id": "6b048ce0",
   "metadata": {},
   "outputs": [],
   "source": [
    "import pandas as pd\n",
    "import numpy as np\n",
    "\n",
    "# Define the number of samples\n",
    "num_samples = 1000\n",
    "\n",
    "# Generate random data for features\n",
    "np.random.seed(42)\n",
    "temperature = np.random.normal(loc=70, scale=10, size=num_samples)\n",
    "pressure = np.random.normal(loc=100, scale=20, size=num_samples)\n",
    "vibration = np.random.normal(loc=0.5, scale=0.1, size=num_samples)\n",
    "operating_time = np.random.randint(1, 5000, size=num_samples)\n",
    "\n",
    "# Generate random target variable indicating maintenance requirement\n",
    "maintenance_required = np.random.choice([0, 1], size=num_samples, p=[0.8, 0.2])\n",
    "\n",
    "# Create DataFrame\n",
    "data = pd.DataFrame({\n",
    "    'temperature': temperature,\n",
    "    'pressure': pressure,\n",
    "    'vibration': vibration,\n",
    "    'operating_time': operating_time,\n",
    "    'maintenance_required': maintenance_required\n",
    "})\n",
    "\n",
    "# Save DataFrame to CSV\n",
    "data.to_csv(\"industrial_machinery_data.csv\", index=False)\n"
   ]
  },
  {
   "cell_type": "code",
   "execution_count": null,
   "id": "5c872436",
   "metadata": {},
   "outputs": [],
   "source": [
    "#Code"
   ]
  },
  {
   "cell_type": "code",
   "execution_count": 4,
   "id": "594aa0c7",
   "metadata": {},
   "outputs": [
    {
     "name": "stdout",
     "output_type": "stream",
     "text": [
      "Accuracy: 0.76\n",
      "Confusion Matrix:\n",
      " [[152   3]\n",
      " [ 45   0]]\n",
      "Classification Report:\n",
      "               precision    recall  f1-score   support\n",
      "\n",
      "           0       0.77      0.98      0.86       155\n",
      "           1       0.00      0.00      0.00        45\n",
      "\n",
      "    accuracy                           0.76       200\n",
      "   macro avg       0.39      0.49      0.43       200\n",
      "weighted avg       0.60      0.76      0.67       200\n",
      "\n",
      "Predicted Label for New Observation: [0]\n"
     ]
    }
   ],
   "source": [
    "import pandas as pd\n",
    "import numpy as np\n",
    "from sklearn.model_selection import train_test_split\n",
    "from sklearn.ensemble import RandomForestClassifier\n",
    "from sklearn.metrics import accuracy_score, confusion_matrix, classification_report\n",
    "\n",
    "data = pd.read_csv(\"industrial_machinery_data.csv\")\n",
    "\n",
    "\n",
    "X = data.drop(columns=['maintenance_required'])  # Features\n",
    "y = data['maintenance_required']  # Target variable\n",
    "\n",
    "X_train, X_test, y_train, y_test = train_test_split(X, y, test_size=0.2, random_state=42)\n",
    "\n",
    "# Model training\n",
    "model = RandomForestClassifier(n_estimators=100, random_state=42)\n",
    "model.fit(X_train, y_train)\n",
    "\n",
    "# Model evaluation\n",
    "y_pred = model.predict(X_test)\n",
    "accuracy = accuracy_score(y_test, y_pred)\n",
    "conf_matrix = confusion_matrix(y_test, y_pred)\n",
    "class_report = classification_report(y_test, y_pred)\n",
    "\n",
    "print(\"Accuracy:\", accuracy)\n",
    "print(\"Confusion Matrix:\\n\", conf_matrix)\n",
    "print(\"Classification Report:\\n\", class_report)\n",
    "\n",
    "\n",
    "new_data = pd.DataFrame({\n",
    "    'temperature': [75],       # Replace with actual value from the dataset or new observation\n",
    "    'pressure': [95],          # Replace with actual value from the dataset or new observation\n",
    "    'vibration': [0.6],        # Replace with actual value from the dataset or new observation\n",
    "    'operating_time': [2000]   # Replace with actual value from the dataset or new observation\n",
    "    # Add more features as needed\n",
    "})\n",
    "\n",
    "predicted_label = model.predict(new_data)\n",
    "print(\"Predicted Label for New Observation:\", predicted_label)\n"
   ]
  },
  {
   "cell_type": "code",
   "execution_count": null,
   "id": "da4b9d84",
   "metadata": {},
   "outputs": [],
   "source": []
  }
 ],
 "metadata": {
  "kernelspec": {
   "display_name": "Python 3 (ipykernel)",
   "language": "python",
   "name": "python3"
  },
  "language_info": {
   "codemirror_mode": {
    "name": "ipython",
    "version": 3
   },
   "file_extension": ".py",
   "mimetype": "text/x-python",
   "name": "python",
   "nbconvert_exporter": "python",
   "pygments_lexer": "ipython3",
   "version": "3.11.5"
  }
 },
 "nbformat": 4,
 "nbformat_minor": 5
}
